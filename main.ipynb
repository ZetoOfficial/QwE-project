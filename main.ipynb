{
 "cells": [
  {
   "cell_type": "code",
   "execution_count": null,
   "metadata": {},
   "outputs": [],
   "source": [
    "from requests import get as r_get\n",
    "from json import loads\n",
    "from csv import DictWriter\n",
    "from schemas import Vacancies, Vacancy"
   ]
  },
  {
   "cell_type": "code",
   "execution_count": null,
   "metadata": {},
   "outputs": [],
   "source": [
    "def get_vacancy(id: int) -> Vacancy:\n",
    "    \"\"\"_summary_\n",
    "\n",
    "    Args:\n",
    "        id (int): _description_\n",
    "\n",
    "    Returns:\n",
    "        Vacancy: _description_\n",
    "    \"\"\"\n",
    "    with r_get(f\"https://api.hh.ru/vacancies/{id}\") as req:\n",
    "        data = loads(req.content.decode())\n",
    "        print(f\"Вакансия добавлена: {data.get('name')}\")\n",
    "        v_data = Vacancy.parse_obj(data)\n",
    "        return v_data"
   ]
  },
  {
   "cell_type": "code",
   "execution_count": null,
   "metadata": {},
   "outputs": [],
   "source": [
    "def get_initial_data() -> Vacancies:\n",
    "    params = {\n",
    "        \"text\": \"NAME:Backend\",  # NAME:Backend Текст фильтра. В имени должно быть слово \"Backend\"\n",
    "        \"area\": 113,  # Поиск ощуществляется по вакансиям России\n",
    "        \"page\": 0,  # Индекс страницы поиска на HH\n",
    "        \"per_page\": 100,  # Кол-во вакансий на 1 странице\n",
    "    }\n",
    "    with r_get(\"https://api.hh.ru/vacancies\", params) as req:\n",
    "        return Vacancies.parse_obj(loads(req.content.decode()))"
   ]
  },
  {
   "cell_type": "code",
   "execution_count": null,
   "metadata": {},
   "outputs": [],
   "source": [
    "def getPage(page: int = 0) -> list[Vacancy]:\n",
    "    \"\"\"\n",
    "    Создаем метод для получения страницы со списком вакансий.\n",
    "\n",
    "    Args:\n",
    "        page (int, optional): Индекс страницы, начинается с 0. Значение по умолчанию 0, т.е. первая страница\n",
    "\n",
    "    Returns:\n",
    "        str: вакансии\n",
    "    \"\"\"\n",
    "    params = {\n",
    "        \"text\": \"NAME:Backend\",  # NAME:Backend Текст фильтра. В имени должно быть слово \"Backend\"\n",
    "        \"area\": 113,  # Поиск ощуществляется по вакансиям России\n",
    "        \"page\": page,  # Индекс страницы поиска на HH\n",
    "        \"per_page\": 100,  # Кол-во вакансий на 1 странице\n",
    "    }\n",
    "    with r_get(\"https://api.hh.ru/vacancies\", params) as req:  # Посылаем запрос к API\n",
    "        data = loads(req.content.decode()).get(\"items\", [])\n",
    "    return [get_vacancy(item.get(\"id\")) for item in data]"
   ]
  },
  {
   "cell_type": "code",
   "execution_count": null,
   "metadata": {},
   "outputs": [],
   "source": [
    "all_vacancies = []\n",
    "first_page = get_initial_data()\n",
    "pages = first_page.pages\n",
    "for page in range(1, pages):\n",
    "    all_vacancies += getPage(page)\n",
    "    print(f\"Вакансии: {page}/{pages} ({len(all_vacancies)})\")"
   ]
  },
  {
   "cell_type": "code",
   "execution_count": null,
   "metadata": {},
   "outputs": [],
   "source": [
    "fieldnames = list(all_vacancies[0].schema()[\"properties\"].keys())"
   ]
  },
  {
   "cell_type": "code",
   "execution_count": null,
   "metadata": {},
   "outputs": [],
   "source": [
    "with open(\"vacancies.csv\", \"w\", newline=\"\") as output_file:\n",
    "    fieldnames = list(all_vacancies[0].schema()[\"properties\"].keys())\n",
    "    dict_writer = DictWriter(output_file, fieldnames)\n",
    "    dict_writer.writeheader()\n",
    "    for vacancy in all_vacancies:\n",
    "        vacancy = vacancy.dict()\n",
    "        if vacancy.get(\"salary\"):\n",
    "            from_ = vacancy.get(\"salary\").get(\"start\") or 0\n",
    "            to_ = vacancy.get(\"salary\").get(\"to\") or 0\n",
    "            print(from_, to_, vacancy.get(\"salary\"))\n",
    "            average_salary = (from_ + to_) // 2\n",
    "            if from_ == 0:\n",
    "                average_salary = to_\n",
    "            if to_ == 0:\n",
    "                average_salary = from_\n",
    "            vacancy[\"salary\"] = average_salary if vacancy.get(\"salary\").get(\"currency\") == \"RUR\" else average_salary * 80\n",
    "        vacancy[\"experience\"] = vacancy.get(\"experience\").get(\"name\")\n",
    "        vacancy[\"area\"] = vacancy.get(\"area\").get(\"name\")\n",
    "        vacancy[\"key_skills\"] = \", \".join([skill.get(\"name\") for skill in vacancy[\"key_skills\"]])\n",
    "        dict_writer.writerow(vacancy)"
   ]
  }
 ],
 "metadata": {
  "interpreter": {
   "hash": "ca9992d0a8c7a9410db4f1ae2171d3d26022282c3c3643a41fa5b5a8b971c146"
  },
  "kernelspec": {
   "display_name": "Python 3.10.4 ('venv': venv)",
   "language": "python",
   "name": "python3"
  },
  "language_info": {
   "codemirror_mode": {
    "name": "ipython",
    "version": 3
   },
   "file_extension": ".py",
   "mimetype": "text/x-python",
   "name": "python",
   "nbconvert_exporter": "python",
   "pygments_lexer": "ipython3",
   "version": "3.10.4"
  },
  "orig_nbformat": 4
 },
 "nbformat": 4,
 "nbformat_minor": 2
}
